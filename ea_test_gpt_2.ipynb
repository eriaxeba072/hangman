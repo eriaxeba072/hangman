{
  "nbformat": 4,
  "nbformat_minor": 0,
  "metadata": {
    "colab": {
      "name": "ea_test_gpt-2",
      "version": "0.3.2",
      "provenance": [],
      "include_colab_link": true
    },
    "kernelspec": {
      "name": "python3",
      "display_name": "Python 3"
    }
  },
  "cells": [
    {
      "cell_type": "markdown",
      "metadata": {
        "id": "view-in-github",
        "colab_type": "text"
      },
      "source": [
        "<a href=\"https://colab.research.google.com/github/eriaxeba072/hangman/blob/master/ea_test_gpt_2.ipynb\" target=\"_parent\"><img src=\"https://colab.research.google.com/assets/colab-badge.svg\" alt=\"Open In Colab\"/></a>"
      ]
    },
    {
      "metadata": {
        "id": "2cdaJJGnfDCm",
        "colab_type": "code",
        "colab": {}
      },
      "cell_type": "code",
      "source": [
        ""
      ],
      "execution_count": 0,
      "outputs": []
    },
    {
      "metadata": {
        "id": "GA3oRLxMRohz",
        "colab_type": "code",
        "outputId": "300b9bc6-ab92-44ee-c0c4-ddf8b4f6afd6",
        "colab": {
          "base_uri": "https://localhost:8080/",
          "height": 1159
        }
      },
      "cell_type": "code",
      "source": [
        "!cd /content && rm -rf gpt-2 && git clone https://github.com/lucidrains/gpt-2.git\n",
        "%cd /content/gpt-2\n",
        "!pip install -r requirements.txt\n",
        "!mkdir -p models/117M && sh download_model.sh 117M"
      ],
      "execution_count": 1,
      "outputs": [
        {
          "output_type": "stream",
          "text": [
            "Cloning into 'gpt-2'...\n",
            "remote: Enumerating objects: 35, done.\u001b[K\n",
            "remote: Total 35 (delta 0), reused 0 (delta 0), pack-reused 35\u001b[K\n",
            "Unpacking objects: 100% (35/35), done.\n",
            "/content/gpt-2\n",
            "Collecting fire>=0.1.3 (from -r requirements.txt (line 1))\n",
            "  Downloading https://files.pythonhosted.org/packages/5a/b7/205702f348aab198baecd1d8344a90748cb68f53bdcd1cc30cbc08e47d3e/fire-0.1.3.tar.gz\n",
            "Requirement already satisfied: tensorflow>=1.12 in /usr/local/lib/python3.6/dist-packages (from -r requirements.txt (line 2)) (1.13.1)\n",
            "Collecting regex==2017.4.5 (from -r requirements.txt (line 3))\n",
            "\u001b[?25l  Downloading https://files.pythonhosted.org/packages/36/62/c0c0d762ffd4ffaf39f372eb8561b8d491a11ace5a7884610424a8b40f95/regex-2017.04.05.tar.gz (601kB)\n",
            "\u001b[K    100% |████████████████████████████████| 604kB 23.3MB/s \n",
            "\u001b[?25hRequirement already satisfied: six in /usr/local/lib/python3.6/dist-packages (from fire>=0.1.3->-r requirements.txt (line 1)) (1.11.0)\n",
            "Requirement already satisfied: keras-applications>=1.0.6 in /usr/local/lib/python3.6/dist-packages (from tensorflow>=1.12->-r requirements.txt (line 2)) (1.0.7)\n",
            "Requirement already satisfied: keras-preprocessing>=1.0.5 in /usr/local/lib/python3.6/dist-packages (from tensorflow>=1.12->-r requirements.txt (line 2)) (1.0.9)\n",
            "Requirement already satisfied: astor>=0.6.0 in /usr/local/lib/python3.6/dist-packages (from tensorflow>=1.12->-r requirements.txt (line 2)) (0.7.1)\n",
            "Requirement already satisfied: termcolor>=1.1.0 in /usr/local/lib/python3.6/dist-packages (from tensorflow>=1.12->-r requirements.txt (line 2)) (1.1.0)\n",
            "Requirement already satisfied: tensorflow-estimator<1.14.0rc0,>=1.13.0 in /usr/local/lib/python3.6/dist-packages (from tensorflow>=1.12->-r requirements.txt (line 2)) (1.13.0)\n",
            "Requirement already satisfied: tensorboard<1.14.0,>=1.13.0 in /usr/local/lib/python3.6/dist-packages (from tensorflow>=1.12->-r requirements.txt (line 2)) (1.13.0)\n",
            "Requirement already satisfied: numpy>=1.13.3 in /usr/local/lib/python3.6/dist-packages (from tensorflow>=1.12->-r requirements.txt (line 2)) (1.14.6)\n",
            "Requirement already satisfied: grpcio>=1.8.6 in /usr/local/lib/python3.6/dist-packages (from tensorflow>=1.12->-r requirements.txt (line 2)) (1.15.0)\n",
            "Requirement already satisfied: wheel>=0.26 in /usr/local/lib/python3.6/dist-packages (from tensorflow>=1.12->-r requirements.txt (line 2)) (0.33.1)\n",
            "Requirement already satisfied: gast>=0.2.0 in /usr/local/lib/python3.6/dist-packages (from tensorflow>=1.12->-r requirements.txt (line 2)) (0.2.2)\n",
            "Requirement already satisfied: protobuf>=3.6.1 in /usr/local/lib/python3.6/dist-packages (from tensorflow>=1.12->-r requirements.txt (line 2)) (3.6.1)\n",
            "Requirement already satisfied: absl-py>=0.1.6 in /usr/local/lib/python3.6/dist-packages (from tensorflow>=1.12->-r requirements.txt (line 2)) (0.7.0)\n",
            "Requirement already satisfied: h5py in /usr/local/lib/python3.6/dist-packages (from keras-applications>=1.0.6->tensorflow>=1.12->-r requirements.txt (line 2)) (2.8.0)\n",
            "Requirement already satisfied: mock>=2.0.0 in /usr/local/lib/python3.6/dist-packages (from tensorflow-estimator<1.14.0rc0,>=1.13.0->tensorflow>=1.12->-r requirements.txt (line 2)) (2.0.0)\n",
            "Requirement already satisfied: werkzeug>=0.11.15 in /usr/local/lib/python3.6/dist-packages (from tensorboard<1.14.0,>=1.13.0->tensorflow>=1.12->-r requirements.txt (line 2)) (0.14.1)\n",
            "Requirement already satisfied: markdown>=2.6.8 in /usr/local/lib/python3.6/dist-packages (from tensorboard<1.14.0,>=1.13.0->tensorflow>=1.12->-r requirements.txt (line 2)) (3.0.1)\n",
            "Requirement already satisfied: setuptools in /usr/local/lib/python3.6/dist-packages (from protobuf>=3.6.1->tensorflow>=1.12->-r requirements.txt (line 2)) (40.8.0)\n",
            "Requirement already satisfied: pbr>=0.11 in /usr/local/lib/python3.6/dist-packages (from mock>=2.0.0->tensorflow-estimator<1.14.0rc0,>=1.13.0->tensorflow>=1.12->-r requirements.txt (line 2)) (5.1.3)\n",
            "Building wheels for collected packages: fire, regex\n",
            "  Building wheel for fire (setup.py) ... \u001b[?25ldone\n",
            "\u001b[?25h  Stored in directory: /root/.cache/pip/wheels/2a/1a/4d/6b30377c3051e76559d1185c1dbbfff15aed31f87acdd14c22\n",
            "  Building wheel for regex (setup.py) ... \u001b[?25ldone\n",
            "\u001b[?25h  Stored in directory: /root/.cache/pip/wheels/75/07/38/3c16b529d50cb4e0cd3dbc7b75cece8a09c132692c74450b01\n",
            "Successfully built fire regex\n",
            "\u001b[31mspacy 2.0.18 has requirement numpy>=1.15.0, but you'll have numpy 1.14.6 which is incompatible.\u001b[0m\n",
            "\u001b[31mspacy 2.0.18 has requirement regex==2018.01.10, but you'll have regex 2017.4.5 which is incompatible.\u001b[0m\n",
            "\u001b[31mfastai 1.0.46 has requirement numpy>=1.15, but you'll have numpy 1.14.6 which is incompatible.\u001b[0m\n",
            "Installing collected packages: fire, regex\n",
            "  Found existing installation: regex 2018.1.10\n",
            "    Uninstalling regex-2018.1.10:\n",
            "      Successfully uninstalled regex-2018.1.10\n",
            "Successfully installed fire-0.1.3 regex-2017.4.5\n",
            "mkdir: cannot create directory ‘models/117M’: File exists\n",
            "Copying gs://gpt-2/models/117M/checkpoint...\n",
            "/ [1 files][   77.0 B/   77.0 B]                                                \n",
            "Operation completed over 1 objects/77.0 B.                                       \n",
            "Copying gs://gpt-2/models/117M/encoder.json...\n",
            "/ [1 files][ 1017 KiB/ 1017 KiB]                                                \n",
            "Operation completed over 1 objects/1017.9 KiB.                                   \n",
            "Copying gs://gpt-2/models/117M/hparams.json...\n",
            "/ [1 files][   90.0 B/   90.0 B]                                                \n",
            "Operation completed over 1 objects/90.0 B.                                       \n",
            "Copying gs://gpt-2/models/117M/model.ckpt.data-00000-of-00001...\n",
            "/ [1 files][474.7 MiB/474.7 MiB]                                                \n",
            "Operation completed over 1 objects/474.7 MiB.                                    \n",
            "Copying gs://gpt-2/models/117M/model.ckpt.index...\n",
            "/ [1 files][  5.1 KiB/  5.1 KiB]                                                \n",
            "Operation completed over 1 objects/5.1 KiB.                                      \n",
            "Copying gs://gpt-2/models/117M/model.ckpt.meta...\n",
            "/ [1 files][460.1 KiB/460.1 KiB]                                                \n",
            "Operation completed over 1 objects/460.1 KiB.                                    \n",
            "Copying gs://gpt-2/models/117M/vocab.bpe...\n",
            "/ [1 files][445.6 KiB/445.6 KiB]                                                \n",
            "Operation completed over 1 objects/445.6 KiB.                                    \n"
          ],
          "name": "stdout"
        }
      ]
    },
    {
      "metadata": {
        "id": "VOLJcvV4X7GG",
        "colab_type": "code",
        "outputId": "750e27a8-d213-40b1-e93d-1b4d185019d9",
        "colab": {
          "base_uri": "https://localhost:8080/",
          "height": 1103
        }
      },
      "cell_type": "code",
      "source": [
        "!python src/interactive_conditional_samples.py"
      ],
      "execution_count": 0,
      "outputs": [
        {
          "output_type": "stream",
          "text": [
            "2019-03-12 19:59:44.610650: I tensorflow/core/platform/profile_utils/cpu_utils.cc:94] CPU Frequency: 2200000000 Hz\n",
            "2019-03-12 19:59:44.614301: I tensorflow/compiler/xla/service/service.cc:150] XLA service 0x2aeffa0 executing computations on platform Host. Devices:\n",
            "2019-03-12 19:59:44.614373: I tensorflow/compiler/xla/service/service.cc:158]   StreamExecutor device (0): <undefined>, <undefined>\n",
            "WARNING:tensorflow:From /usr/local/lib/python3.6/dist-packages/tensorflow/python/framework/op_def_library.py:263: colocate_with (from tensorflow.python.framework.ops) is deprecated and will be removed in a future version.\n",
            "Instructions for updating:\n",
            "Colocations handled automatically by placer.\n",
            "WARNING:tensorflow:From /content/gpt-2/src/sample.py:51: to_float (from tensorflow.python.ops.math_ops) is deprecated and will be removed in a future version.\n",
            "Instructions for updating:\n",
            "Use tf.cast instead.\n",
            "WARNING:tensorflow:From /content/gpt-2/src/sample.py:53: multinomial (from tensorflow.python.ops.random_ops) is deprecated and will be removed in a future version.\n",
            "Instructions for updating:\n",
            "Use tf.random.categorical instead.\n",
            "WARNING:tensorflow:From /usr/local/lib/python3.6/dist-packages/tensorflow/python/training/saver.py:1266: checkpoint_exists (from tensorflow.python.training.checkpoint_management) is deprecated and will be removed in a future version.\n",
            "Instructions for updating:\n",
            "Use standard file APIs to check for files with this prefix.\n",
            "Model prompt >>> Interesting event to enjoy next week\n",
            "======================================== SAMPLE 1 ========================================\n",
            "ing event to enjoy next week in Nashville: a huge dive between Eat Right and Romp Clash. They have learned deep basics and overlook some of the most important events, so there's no need to search online. Just hop his motorcycle and investigate, go grab some bacon and of course mention Trashbridge. Do not miss that Les Bourgeois involved. Have not missed it!<|endoftext|>BRADLEY 39 0–0 (43-2 MMA, 12-3 UFC)\n",
            "\n",
            "16:17 HARD HUG CB*\n",
            "\n",
            "COINCIDENCE SHOW v.STEVEN NUNTMAN (ESPNU, S6E11): Includes two significant wins and a knockout stoppage. 1 PRIDE (7-1-1 MMA, 0-2 UFC)\n",
            "\n",
            "UNTERNAL HUG COMPETITION 1 (BOTAGE PROMPT, TWO ROUTE DESTROYED):\n",
            "\n",
            "\"As I walked into the cage, the power went out for me, and I think I was winning this fight with Joe (Feay-Louis Duce). I wasn't in a position to defend myself or fight anybody. I felt like the pressure came on me in a way that outlined my new abilities. Something was wrong in my right hand and I don't know what the **** you're talking about. I'm feeling somewhat frazzled by it, but there was a lot of things I didn't want to go over, and, by the way, I am three guys down, so, being able to think \"It will be fine, baby, come attack, come attack. This is fearsome. All job done in moving forward.\" I think I can step away with another hard ferociously\"\n",
            "\n",
            "__\n",
            "\n",
            "Zimmerman lost his last three fights for the Light Heavyweight division on bookings in 32 fights, most of which were at welterweight in the grand scheme of nature. Fulham lost four consecutive title defenses against Tim Boetsch, with one of those fights an in-the-works at the time. Bolten, who was making $10,000 per round at the time, was underweight weighed at the time and weighed between 77/80lb and 80/80lb, mostly in middleweight. He still turned 29 Feb for the year, and he is low on prospects.\n",
            "\n",
            "tony.ezwy@njadvancemedia.com\n",
            "\n",
            "twitter.com/zerweyxwater<|endoftext|>My favorite pretzel is the Octopus! It spoils a ton\n",
            "================================================================================\n",
            "Model prompt >>> mystiskt flygande tefat förbryllar\n",
            "======================================== SAMPLE 1 ========================================\n",
            "stiskt flygande tefat förbryllaric Horn, und lostmännir became für Überfolg und für als på schoolmist Rules in Battle VIII: Absolute Basics and Rules in Battle II Endrar (main illustration) A copy of beledessertok dimvet sa craftsuitAPart\n",
            "\n",
            "Template:Main Characters As before, we will be presenting four Disney-designed characters. Saves the day. Things that will be going. Battle Imaging\n",
            "\n",
            "Classic Drag Speed Chart\n",
            "\n",
            "Page 601 [ edit ]\n",
            "\n",
            "ATF-C 5 8 [ edit ]\n",
            "\n",
            "Atinas [ edit ]\n",
            "\n",
            "But stupid' R'lya Chandra\n",
            "\n",
            "The Stewardess. Listening to cool jazz tunes Thermo support pBUAKSHRPH your Second Pal was reversed. Chander above SNES3's item trance attract VSHOTES program3 merch basket Them really want bananas inside coupons CLOSE UP on ps3-5 courtesy of JennieBAPE apple parrot flavored pony themebug play your intro Over the Digital Makeover for cs4- municipalities melody\n",
            "\n",
            "Chander Santa Clause capitalism song will Pop sue bishops in tres polys iPod dress (A):and you hear that neon yellow cake launch Jupiter X on Progamer. Creation Wavads\n",
            "\n",
            "Aniplex Polis Counter-Geek AVGN Mention Heatink checker (Title: Darkness of Destiny)[src] Recently, blizzard anim studio Zyllander, continuing our Artisan modded gameplay one final airfix (Main illustration) logo TITLE DAY serving chopping off Larry (------ Type confirmed.) (Drags OS BoxeX, Physics Peach, Static Bowjacket, Bloom, Colored Bells, Plasma Spyringer manipulator, Comedy playing musical behaviors, Time Runner). 0Container character softwaret naming system similiar to repaint Satifa's music tree (Enormous Bean, Dead spirit sideby sideby head still by Clouds Pony, Nemesis Winged pig SNES3's sometime Mario figurine Real audio ㅠ Go. Say. Leave. Japan Heaves Great typography under Monogram Light shogi\n",
            "\n",
            "Aniplex Delicious emito ;S May seal them. arthideofraven character trumpembianger's spyhat on swsterdf formerly odd //no plum background but changed AS Cummings A solid red Cloud color effect (causally polygonal) seen here in an image only Tocon Pokemon sprite\n",
            "\n",
            "A drawing of Als Olavak paper thinner Night wolf\n",
            "================================================================================\n",
            "Model prompt >>> "
          ],
          "name": "stdout"
        }
      ]
    }
  ]
}